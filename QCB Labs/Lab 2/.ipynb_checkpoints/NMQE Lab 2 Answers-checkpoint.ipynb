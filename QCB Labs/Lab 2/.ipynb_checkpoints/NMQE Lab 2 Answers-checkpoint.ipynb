{
 "cells": [
  {
   "cell_type": "markdown",
   "id": "70faadad",
   "metadata": {},
   "source": [
    "# Lab 2: Entanglement\n",
    "### Review:\n",
    "So far, we've learned how to use qubits to represent bits by giving them dentermined values. We've alterted these qubits using gates such as the NOT (.x), CNOT (.cx), and Toffoli (.ccx). \n",
    "\n",
    "Most recently, we've discoved how qubits can be represented using complex amplitudes, with split probabilities of being in one of two states by acting the Haddamard (.h) gate on them.\n",
    "\n",
    "In this lab, we will introduce the concept of entanglement, from a physical and computational standpoint. We will then explore some interesting qualities of entanglement by running code on a real quantum computer!\n",
    "\n",
    "![half adder implemented on a quantum circuit](half-adder.svg)"
   ]
  },
  {
   "cell_type": "markdown",
   "id": "41ba75c2",
   "metadata": {},
   "source": [
    "## 2.1 What is Entanglement?\n",
    "\n",
    "In the physical world, particles are described by their mass, electric charge, and spin. Heavily charged particles act strong electrostatic forces on other charges, massive particles have a analagous effect in the gravitational field. Interestingly, spin is different -- it is quantized into positive and negative states, for example the electron can have spin +1/2 or spin -1/2. Spin, unlike mass or charge, also follows the probablitic nature of quantum mechanics. This means that when you measure a particle's spin you get either the positive or negative value with some probability that is, surprisingly, determined by the kind of measurement. \n",
    "\n",
    "For example, if we set the orientation of an electron's spin in the positive vertical direction, so that its spin is up, then we measure it in the positive horizontal direction, the spin will actually be measured with a 50% proability of being oreinted right and 50% left. If we again initiate the electron with postive verticle spin, then tilt our angle of measurement to say, 60 degrees from the verticle, our particle will now be measured 75% spin in the direction of measurement and 25% in the opposite direction. An irrelevent but intertesting observation is that the probability of spin in the direction of measurement is equal to $\\cos^{2}(\\theta/2)$, for $\\theta$ degrees from the horizontal.\n",
    "\n",
    "Let's conduct a thought experiment. Suppose we create two photons using Einstein's energy-mass relation. By conservation of angular momentum, the sum of the particles' spins must be zero, thus they must be equal and opposite. This is the experiement Einstein proposed in the 1930s to prove his mathematical derivation of entanglement. The particles are entangled because if me measure one in some orientation, the other particle must have the opposite orientation. We will 'simulate' this experiment at the end of this lab!"
   ]
  },
  {
   "cell_type": "markdown",
   "id": "cec9a7e9",
   "metadata": {},
   "source": [
    "## 2.2 Entangled Qubits\n",
    "Let's explore the similarities between entangled particles and entangled qubits. "
   ]
  },
  {
   "cell_type": "code",
   "execution_count": 1,
   "id": "7943d946",
   "metadata": {},
   "outputs": [
    {
     "name": "stdout",
     "output_type": "stream",
     "text": [
      "Requirement already satisfied: qiskit in /opt/conda/lib/python3.9/site-packages (0.34.2)\n",
      "Requirement already satisfied: qiskit-aer==0.10.3 in /opt/conda/lib/python3.9/site-packages (from qiskit) (0.10.3)\n",
      "Requirement already satisfied: qiskit-ibmq-provider==0.18.3 in /opt/conda/lib/python3.9/site-packages (from qiskit) (0.18.3)\n",
      "Requirement already satisfied: qiskit-ignis==0.7.0 in /opt/conda/lib/python3.9/site-packages (from qiskit) (0.7.0)\n",
      "Requirement already satisfied: qiskit-terra==0.19.2 in /opt/conda/lib/python3.9/site-packages (from qiskit) (0.19.2)\n",
      "Requirement already satisfied: numpy>=1.16.3 in /opt/conda/lib/python3.9/site-packages (from qiskit-aer==0.10.3->qiskit) (1.21.5)\n",
      "Requirement already satisfied: scipy>=1.0 in /opt/conda/lib/python3.9/site-packages (from qiskit-aer==0.10.3->qiskit) (1.7.3)\n",
      "Requirement already satisfied: requests-ntlm>=1.1.0 in /opt/conda/lib/python3.9/site-packages (from qiskit-ibmq-provider==0.18.3->qiskit) (1.1.0)\n",
      "Requirement already satisfied: urllib3>=1.21.1 in /opt/conda/lib/python3.9/site-packages (from qiskit-ibmq-provider==0.18.3->qiskit) (1.25.7)\n",
      "Requirement already satisfied: python-dateutil>=2.8.0 in /opt/conda/lib/python3.9/site-packages (from qiskit-ibmq-provider==0.18.3->qiskit) (2.8.0)\n",
      "Requirement already satisfied: websocket-client>=1.0.1 in /opt/conda/lib/python3.9/site-packages (from qiskit-ibmq-provider==0.18.3->qiskit) (1.2.3)\n",
      "Requirement already satisfied: requests>=2.19 in /opt/conda/lib/python3.9/site-packages (from qiskit-ibmq-provider==0.18.3->qiskit) (2.26.0)\n",
      "Requirement already satisfied: setuptools>=40.1.0 in /opt/conda/lib/python3.9/site-packages (from qiskit-ignis==0.7.0->qiskit) (58.2.0)\n",
      "Requirement already satisfied: retworkx>=0.8.0 in /opt/conda/lib/python3.9/site-packages (from qiskit-ignis==0.7.0->qiskit) (0.11.0)\n",
      "Requirement already satisfied: sympy>=1.3 in /opt/conda/lib/python3.9/site-packages (from qiskit-terra==0.19.2->qiskit) (1.8)\n",
      "Requirement already satisfied: symengine>=0.8; platform_machine == \"x86_64\" or platform_machine == \"aarch64\" or platform_machine == \"ppc64le\" or platform_machine == \"amd64\" or platform_machine == \"arm64\" in /opt/conda/lib/python3.9/site-packages (from qiskit-terra==0.19.2->qiskit) (0.9.0)\n",
      "Requirement already satisfied: psutil>=5 in /opt/conda/lib/python3.9/site-packages (from qiskit-terra==0.19.2->qiskit) (5.9.0)\n",
      "Requirement already satisfied: stevedore>=3.0.0 in /opt/conda/lib/python3.9/site-packages (from qiskit-terra==0.19.2->qiskit) (3.5.0)\n",
      "Requirement already satisfied: python-constraint>=1.4 in /opt/conda/lib/python3.9/site-packages (from qiskit-terra==0.19.2->qiskit) (1.4.0)\n",
      "Requirement already satisfied: tweedledum<2.0,>=1.1 in /opt/conda/lib/python3.9/site-packages (from qiskit-terra==0.19.2->qiskit) (1.1.1)\n",
      "Requirement already satisfied: ply>=3.10 in /opt/conda/lib/python3.9/site-packages (from qiskit-terra==0.19.2->qiskit) (3.11)\n",
      "Requirement already satisfied: dill>=0.3 in /opt/conda/lib/python3.9/site-packages (from qiskit-terra==0.19.2->qiskit) (0.3.4)\n",
      "Requirement already satisfied: cryptography>=1.3 in /opt/conda/lib/python3.9/site-packages (from requests-ntlm>=1.1.0->qiskit-ibmq-provider==0.18.3->qiskit) (3.4.8)\n",
      "Requirement already satisfied: ntlm-auth>=1.0.2 in /opt/conda/lib/python3.9/site-packages (from requests-ntlm>=1.1.0->qiskit-ibmq-provider==0.18.3->qiskit) (1.5.0)\n",
      "Requirement already satisfied: six>=1.5 in /opt/conda/lib/python3.9/site-packages (from python-dateutil>=2.8.0->qiskit-ibmq-provider==0.18.3->qiskit) (1.16.0)\n",
      "Requirement already satisfied: idna<4,>=2.5; python_version >= \"3\" in /opt/conda/lib/python3.9/site-packages (from requests>=2.19->qiskit-ibmq-provider==0.18.3->qiskit) (2.8)\n",
      "Requirement already satisfied: charset-normalizer~=2.0.0; python_version >= \"3\" in /opt/conda/lib/python3.9/site-packages (from requests>=2.19->qiskit-ibmq-provider==0.18.3->qiskit) (2.0.0)\n",
      "Requirement already satisfied: certifi>=2017.4.17 in /opt/conda/lib/python3.9/site-packages (from requests>=2.19->qiskit-ibmq-provider==0.18.3->qiskit) (2019.11.28)\n",
      "Requirement already satisfied: mpmath>=0.19 in /opt/conda/lib/python3.9/site-packages (from sympy>=1.3->qiskit-terra==0.19.2->qiskit) (1.2.1)\n",
      "Requirement already satisfied: pbr!=2.1.0,>=2.0.0 in /opt/conda/lib/python3.9/site-packages (from stevedore>=3.0.0->qiskit-terra==0.19.2->qiskit) (5.8.1)\n",
      "Requirement already satisfied: cffi>=1.12 in /opt/conda/lib/python3.9/site-packages (from cryptography>=1.3->requests-ntlm>=1.1.0->qiskit-ibmq-provider==0.18.3->qiskit) (1.14.6)\n",
      "Requirement already satisfied: pycparser in /opt/conda/lib/python3.9/site-packages (from cffi>=1.12->cryptography>=1.3->requests-ntlm>=1.1.0->qiskit-ibmq-provider==0.18.3->qiskit) (2.20)\n",
      "Requirement already satisfied: pylatexenc in /opt/conda/lib/python3.9/site-packages (2.10)\n"
     ]
    }
   ],
   "source": [
    "!pip install qiskit\n",
    "!pip install pylatexenc"
   ]
  },
  {
   "cell_type": "code",
   "execution_count": 2,
   "id": "0c65e0d5",
   "metadata": {},
   "outputs": [
    {
     "ename": "NameError",
     "evalue": "name 'QuantumCircuit' is not defined",
     "output_type": "error",
     "traceback": [
      "\u001b[0;31m---------------------------------------------------------------------------\u001b[0m",
      "\u001b[0;31mNameError\u001b[0m                                 Traceback (most recent call last)",
      "Input \u001b[0;32mIn [2]\u001b[0m, in \u001b[0;36m<module>\u001b[0;34m\u001b[0m\n\u001b[1;32m      1\u001b[0m \u001b[38;5;66;03m#Recall the H gate\u001b[39;00m\n\u001b[0;32m----> 2\u001b[0m qc\u001b[38;5;241m=\u001b[39m\u001b[43mQuantumCircuit\u001b[49m(\u001b[38;5;241m2\u001b[39m)\n\u001b[1;32m      3\u001b[0m qc\u001b[38;5;241m.\u001b[39mh(\u001b[38;5;241m0\u001b[39m)\n\u001b[1;32m      4\u001b[0m qc\u001b[38;5;241m.\u001b[39mdraw(output\u001b[38;5;241m=\u001b[39m\u001b[38;5;124m'\u001b[39m\u001b[38;5;124mmpl\u001b[39m\u001b[38;5;124m'\u001b[39m)\n",
      "\u001b[0;31mNameError\u001b[0m: name 'QuantumCircuit' is not defined"
     ]
    }
   ],
   "source": [
    "#Recall the H gate\n",
    "qc=QuantumCircuit(2)\n",
    "qc.h(0)\n",
    "qc.draw(output='mpl')"
   ]
  },
  {
   "cell_type": "code",
   "execution_count": null,
   "id": "ea39638c",
   "metadata": {},
   "outputs": [],
   "source": []
  }
 ],
 "metadata": {
  "kernelspec": {
   "display_name": "Python 3 (ipykernel)",
   "language": "python",
   "name": "python3"
  },
  "language_info": {
   "codemirror_mode": {
    "name": "ipython",
    "version": 3
   },
   "file_extension": ".py",
   "mimetype": "text/x-python",
   "name": "python",
   "nbconvert_exporter": "python",
   "pygments_lexer": "ipython3",
   "version": "3.9.10"
  }
 },
 "nbformat": 4,
 "nbformat_minor": 5
}
