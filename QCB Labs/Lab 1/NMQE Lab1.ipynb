{
 "cells": [
  {
   "cell_type": "markdown",
   "id": "b2c8d54e",
   "metadata": {},
   "source": [
    "## Lab 1: Quantum Circuits\n",
    "Generally, the goal of lab is to introduce you to methodologies of codeing a quantum circuits. Here you'll learn about the most commonly used QC library -- Qiskit by IBM. We hope to reinforce your understanding of qunatum states through visualizations, how gates are used to change qubits and thus data, and the kind of information you can extract from these special programs."
   ]
  },
  {
   "cell_type": "code",
   "execution_count": 1,
   "id": "51b96e9f",
   "metadata": {},
   "outputs": [],
   "source": [
    "import qiskit\n",
    "import matplotlib"
   ]
  },
  {
   "cell_type": "code",
   "execution_count": 2,
   "id": "5d211234",
   "metadata": {},
   "outputs": [],
   "source": [
    "#The QuantumCircuit class has functions for constructing registers and qubits, and enacting gates on them. \n",
    "#The assemble class creates a qobj (short for Qunatum Object, duh) which IBM computers interpret on the backend.\n",
    "#Aer provides functions for qunatum simulations.\n",
    "from qiskit import QuantumCircuit, assemble, Aer\n",
    "from qiskit.visualization import plot_histogram\n"
   ]
  },
  {
   "cell_type": "markdown",
   "id": "b05aa4b7",
   "metadata": {},
   "source": [
    "Over the course of the labs you will use a number of APIs from Qiskit, but if you wish to explore new ones yourself, here is the link to the documentation: https://qiskit.org/documentation/apidoc/terra.html"
   ]
  },
  {
   "cell_type": "markdown",
   "id": "26dadc98",
   "metadata": {},
   "source": [
    "## Qiskit Adder\n",
    "In this lab we will build a simple circuit for adding strings of bits using a simulated quantum computer (for most applications, actual quantum computers are only advantageous once the number of bits, equivalently qubits, exceeds ~30)."
   ]
  },
  {
   "cell_type": "markdown",
   "id": "c16befd4",
   "metadata": {},
   "source": [
    "### 1.1 Overview"
   ]
  },
  {
   "cell_type": "markdown",
   "id": "2b7ec299",
   "metadata": {},
   "source": [
    "Most quantum circuits can be decomposed into three portions:\n",
    "1. Encoding - This includes declaring your circuit registers and qubits, and acting gates on them to give your circuit initial conditions.\n",
    "2. Processing - The main body of code that acts gates on your qubits to derive arrive at the solution.\n",
    "3. Measuring - Finally we collect values and visualize results to check performance.\n",
    "\n",
    "One of the best things about Qiskit is its visulization tools. QC problems can quickly become complicated, so its important to visualize your circuit between each step.\n",
    "\n",
    "Lets practice..."
   ]
  },
  {
   "cell_type": "code",
   "execution_count": 3,
   "id": "be828d07",
   "metadata": {},
   "outputs": [
    {
     "data": {
      "text/html": [
       "<pre style=\"word-wrap: normal;white-space: pre;background: #fff0;line-height: 1.1;font-family: &quot;Courier New&quot;,Courier,monospace\">          \n",
       "q_0: ─────\n",
       "          \n",
       "q_1: ─────\n",
       "          \n",
       "q_2: ─────\n",
       "          \n",
       "q_3: ─────\n",
       "          \n",
       "q_4: ─────\n",
       "          \n",
       "q_5: ─────\n",
       "          \n",
       "q_6: ─────\n",
       "     ┌───┐\n",
       "q_7: ┤ X ├\n",
       "     └───┘</pre>"
      ],
      "text/plain": [
       "          \n",
       "q_0: ─────\n",
       "          \n",
       "q_1: ─────\n",
       "          \n",
       "q_2: ─────\n",
       "          \n",
       "q_3: ─────\n",
       "          \n",
       "q_4: ─────\n",
       "          \n",
       "q_5: ─────\n",
       "          \n",
       "q_6: ─────\n",
       "     ┌───┐\n",
       "q_7: ┤ X ├\n",
       "     └───┘"
      ]
     },
     "execution_count": 3,
     "metadata": {},
     "output_type": "execute_result"
    }
   ],
   "source": [
    "n = 8\n",
    "#Declare a Quantum Circuit of size n\n",
    "qc_practice = QuantumCircuit(n)\n",
    "#Act an X (NOT) gate on the last qubit\n",
    "qc_practice.x(n-1)\n",
    "#Visulize the circuit with the .draw() function\n",
    "qc_practice.draw()"
   ]
  },
  {
   "cell_type": "markdown",
   "id": "99c62113",
   "metadata": {},
   "source": [
    "Notice that n here is the number of qubits declared in our circuit, this is a hyperparameter that we can choose to fit our problem. Like in most programming languages the last qubit takes on index n-1.\n",
    "\n",
    "Now lets extract our results..."
   ]
  },
  {
   "cell_type": "code",
   "execution_count": 4,
   "id": "59331fcb",
   "metadata": {},
   "outputs": [
    {
     "data": {
      "text/html": [
       "<pre style=\"word-wrap: normal;white-space: pre;background: #fff0;line-height: 1.1;font-family: &quot;Courier New&quot;,Courier,monospace\">              ░ ┌─┐                     \n",
       "   q_0: ──────░─┤M├─────────────────────\n",
       "              ░ └╥┘┌─┐                  \n",
       "   q_1: ──────░──╫─┤M├──────────────────\n",
       "              ░  ║ └╥┘┌─┐               \n",
       "   q_2: ──────░──╫──╫─┤M├───────────────\n",
       "              ░  ║  ║ └╥┘┌─┐            \n",
       "   q_3: ──────░──╫──╫──╫─┤M├────────────\n",
       "              ░  ║  ║  ║ └╥┘┌─┐         \n",
       "   q_4: ──────░──╫──╫──╫──╫─┤M├─────────\n",
       "              ░  ║  ║  ║  ║ └╥┘┌─┐      \n",
       "   q_5: ──────░──╫──╫──╫──╫──╫─┤M├──────\n",
       "              ░  ║  ║  ║  ║  ║ └╥┘┌─┐   \n",
       "   q_6: ──────░──╫──╫──╫──╫──╫──╫─┤M├───\n",
       "        ┌───┐ ░  ║  ║  ║  ║  ║  ║ └╥┘┌─┐\n",
       "   q_7: ┤ X ├─░──╫──╫──╫──╫──╫──╫──╫─┤M├\n",
       "        └───┘ ░  ║  ║  ║  ║  ║  ║  ║ └╥┘\n",
       "meas: 8/═════════╩══╩══╩══╩══╩══╩══╩══╩═\n",
       "                 0  1  2  3  4  5  6  7 </pre>"
      ],
      "text/plain": [
       "              ░ ┌─┐                     \n",
       "   q_0: ──────░─┤M├─────────────────────\n",
       "              ░ └╥┘┌─┐                  \n",
       "   q_1: ──────░──╫─┤M├──────────────────\n",
       "              ░  ║ └╥┘┌─┐               \n",
       "   q_2: ──────░──╫──╫─┤M├───────────────\n",
       "              ░  ║  ║ └╥┘┌─┐            \n",
       "   q_3: ──────░──╫──╫──╫─┤M├────────────\n",
       "              ░  ║  ║  ║ └╥┘┌─┐         \n",
       "   q_4: ──────░──╫──╫──╫──╫─┤M├─────────\n",
       "              ░  ║  ║  ║  ║ └╥┘┌─┐      \n",
       "   q_5: ──────░──╫──╫──╫──╫──╫─┤M├──────\n",
       "              ░  ║  ║  ║  ║  ║ └╥┘┌─┐   \n",
       "   q_6: ──────░──╫──╫──╫──╫──╫──╫─┤M├───\n",
       "        ┌───┐ ░  ║  ║  ║  ║  ║  ║ └╥┘┌─┐\n",
       "   q_7: ┤ X ├─░──╫──╫──╫──╫──╫──╫──╫─┤M├\n",
       "        └───┘ ░  ║  ║  ║  ║  ║  ║  ║ └╥┘\n",
       "meas: 8/═════════╩══╩══╩══╩══╩══╩══╩══╩═\n",
       "                 0  1  2  3  4  5  6  7 "
      ]
     },
     "execution_count": 4,
     "metadata": {},
     "output_type": "execute_result"
    }
   ],
   "source": [
    "qc_practice.measure_all()\n",
    "qc_practice.draw()"
   ]
  },
  {
   "cell_type": "markdown",
   "id": "1242acff",
   "metadata": {},
   "source": [
    "The M's (often visualized as dials) on the right of our circuit indicate that we have taken a measurment of each qubit. \n",
    "\n",
    "The numbers along the bottom line indicate the index of each measurement. \n",
    "\n",
    "The fuzzy line between the X gate and the Measurements is called a barrier. It's used to seperate a quantum circuit into its easily digestible portions: encoding, processing, and measuring.\n",
    "\n",
    "Lets run the full circuit and vizualize the results"
   ]
  },
  {
   "cell_type": "code",
   "execution_count": 5,
   "id": "447c6455",
   "metadata": {},
   "outputs": [
    {
     "data": {
      "image/png": "[encoded data removed]",
      "text/plain": [
       "<Figure size 700x500 with 1 Axes>"
      ]
     },
     "execution_count": 5,
     "metadata": {},
     "output_type": "execute_result"
    }
   ],
   "source": [
    "# We begin by declaring a simulator for our circuit to run on\n",
    "sim = Aer.get_backend('aer_simulator') \n",
    "# We run the simulator with sim.run(QUANTUM CIRCUIT),\n",
    "# And we get the resulting values with .result()\n",
    "result = sim.run(qc_practice).result()\n",
    "# We then collect the results using .get_counts()\n",
    "counts = result.get_counts()\n",
    "# Visualization\n",
    "plot_histogram(counts)"
   ]
  },
  {
   "cell_type": "markdown",
   "id": "bb1a685b",
   "metadata": {},
   "source": [
    "This cicuit outputs the binary string `10000000`, which is obviously of no use to us, but notice that the last quibit in our circuit is the first digit of our binary output. This is merely by convention.\n",
    "\n",
    "Also notice that the `plot_histogram` function displays the probability of our measurement. This is important for problems which handle quantum randomness. This lab does not."
   ]
  },
  {
   "cell_type": "markdown",
   "id": "e8f29db6",
   "metadata": {},
   "source": [
    "### 1.2 Adding Review"
   ]
  },
  {
   "cell_type": "markdown",
   "id": "199e4f5a",
   "metadata": {},
   "source": [
    "Lets think about how we add bits. \n",
    "```\n",
    "   01\n",
    "+  10\n",
    "=  ??\n",
    "```\n",
    "Well, `01`= 1, `10`= 2 and 1 + 2 = 3 =`11` in binary. From this we note that adding bits is like adding decimal numbers, we can add them by collumn, right to left.\n",
    "\n",
    "Now what happens if two single digit decimal numbers sum to greater than 10? We were taught in elemtary school to carry the 1. A similar rule applies here, so lets explore it.\n",
    "```\n",
    "   01\n",
    "+  01\n",
    "=  ??\n",
    "```\n",
    "Obviously, 1 + 1 = 2 = `10`. What about...\n",
    "```\n",
    "   11\n",
    "+  11\n",
    "=  ??\n",
    "```\n",
    "3 + 3 = 6 =`110`=`100`+`10`. So we can in fact carry the values just like in traditional addition, but instead of adding 10^n, where n is the place of the digit we're carrying from, we're adding 2^n.\n",
    "\n",
    "Let's write down a few rules to sum this up.\n",
    "\n",
    "1. `0+0 = 00`\n",
    "2. `0+1 = 01`\n",
    "3. `1+0 = 01`\n",
    "4. `1+1 = 10`\n",
    "\n",
    "Note: In this step we designed rules for the circuit to follow in order to execute an algorithm. This is a quintessential part of QC. Today, QCs operate on fewer than 100 bits, which means we are very limited in the amount of information we can operate on at a given time. This makes it important that our computations are reduced to their fundamental form."
   ]
  },
  {
   "cell_type": "markdown",
   "id": "8114e7d6",
   "metadata": {},
   "source": [
    "### 1.3 CNOT Gate\n",
    "\n",
    "From our rules on summing bits, the rightmost bit in the sum is determined by whether or not the bits we are adding are identical or different. Notice how similarity to the XOR gate introduced in lecture. As a reminder, the XOR gate behaves as follows.\n",
    "\n",
    "| A | B | XOR |\n",
    "| --- | --- | ---|\n",
    "| 0 | 0 | 0 |\n",
    "| 0 | 1 | 1 |\n",
    "| 1 | 0 | 1 |\n",
    "| 1 | 1 | 0 |\n",
    "\n",
    "In quantum computing, this gate is replaced by the controlled-NOT (CNOT) gate. In Quiskit this is called using the Quantum Circuit's `.cx()` function on a pair of bits. The CNOT gate gets its name from the fact that it assigns the 'target' bit `1` iff the target and 'control' bit are identical, and `0` otherwise. For example..."
   ]
  },
  {
   "cell_type": "code",
   "execution_count": 6,
   "id": "a70c3038",
   "metadata": {},
   "outputs": [
    {
     "data": {
      "text/html": [
       "<pre style=\"word-wrap: normal;white-space: pre;background: #fff0;line-height: 1.1;font-family: &quot;Courier New&quot;,Courier,monospace\">     ┌───┐     ┌─┐   \n",
       "q_0: ┤ X ├──■──┤M├───\n",
       "     └───┘┌─┴─┐└╥┘┌─┐\n",
       "q_1: ─────┤ X ├─╫─┤M├\n",
       "          └───┘ ║ └╥┘\n",
       "c: 2/═══════════╩══╩═\n",
       "                0  1 </pre>"
      ],
      "text/plain": [
       "     ┌───┐     ┌─┐   \n",
       "q_0: ┤ X ├──■──┤M├───\n",
       "     └───┘┌─┴─┐└╥┘┌─┐\n",
       "q_1: ─────┤ X ├─╫─┤M├\n",
       "          └───┘ ║ └╥┘\n",
       "c: 2/═══════════╩══╩═\n",
       "                0  1 "
      ]
     },
     "execution_count": 6,
     "metadata": {},
     "output_type": "execute_result"
    }
   ],
   "source": [
    "qc = QuantumCircuit(2,2)\n",
    "# Let the first qubit be 1, such that the two bits are different\n",
    "qc.x(0)\n",
    "# Now let the second qubit be our target...\n",
    "qc.cx(0,1)\n",
    "# ...we can visualize this...\n",
    "qc.measure(0,0)\n",
    "qc.measure(1,1)\n",
    "qc.draw()"
   ]
  },
  {
   "cell_type": "code",
   "execution_count": 7,
   "id": "1c6edc30",
   "metadata": {},
   "outputs": [
    {
     "data": {
      "image/png": "[encoded data removed]",
      "text/plain": [
       "<Figure size 700x500 with 1 Axes>"
      ]
     },
     "execution_count": 7,
     "metadata": {},
     "output_type": "execute_result"
    }
   ],
   "source": [
    "sim = Aer.get_backend('aer_simulator') \n",
    "result = sim.run(qc).result()\n",
    "counts = result.get_counts()\n",
    "#... and we expect to measure our bits as 11.\n",
    "plot_histogram(counts)"
   ]
  },
  {
   "cell_type": "markdown",
   "id": "4c63277c",
   "metadata": {},
   "source": [
    "To recap, the CNOT calculates whether the input values are different and finds that they are, which means that it wants to output `1`. It does this by writing over the state of qubit 1 (which, remember, is on the left of the bit string), turning `01` into `11`. Try this circuit with all 4 combinations of bits. You check that you get the following results.\n",
    "\n",
    "| Input A | Input B | Output |\n",
    "| --- | --- | --- |\n",
    "| 0 | 0 | 00 |\n",
    "| 0 | 1 | 11 |\n",
    "| 1 | 0 | 10 |\n",
    "| 1 | 1 | 01 |"
   ]
  },
  {
   "cell_type": "markdown",
   "id": "2b7302c5",
   "metadata": {},
   "source": [
    "### 1.4 Implementation\n",
    "\n",
    "Let's make sure our fundamentals are sound by constructing an adder of 2 bits. We'll call this a half-adder. \n",
    "\n",
    "Our circuit will look something like this...\n",
    "\n",
    "![half adder implemented on a quantum circuit](half-adder.svg)\n",
    "\n",
    "(Image courtesy of IBM's Qiskit Texbook)\n",
    "\n",
    "For our half adder, we don’t want to overwrite one of our inputs. Instead, we want to write the result on a different pair of qubits. Now we can use two CNOTs on our existing quibits, and we can write the result to a new quibit. This handles three cases for the right-most digit in our addition problem. "
   ]
  },
  {
   "cell_type": "code",
   "execution_count": 20,
   "id": "fc06950f",
   "metadata": {},
   "outputs": [
    {
     "data": {
      "text/html": [
       "<pre style=\"word-wrap: normal;white-space: pre;background: #fff0;line-height: 1.1;font-family: &quot;Courier New&quot;,Courier,monospace\">     ┌───┐ ░            ░       \n",
       "q_0: ┤ X ├─░───■────────░───────\n",
       "     ├───┤ ░ ┌─┴─┐      ░       \n",
       "q_1: ┤ X ├─░─┤ X ├──■───░───────\n",
       "     └───┘ ░ └───┘┌─┴─┐ ░ ┌─┐   \n",
       "q_2: ──────░──────┤ X ├─░─┤M├───\n",
       "           ░      └───┘ ░ └╥┘┌─┐\n",
       "q_3: ──────░────────────░──╫─┤M├\n",
       "           ░            ░  ║ └╥┘\n",
       "c: 2/══════════════════════╩══╩═\n",
       "                           0  1 </pre>"
      ],
      "text/plain": [
       "     ┌───┐ ░            ░       \n",
       "q_0: ┤ X ├─░───■────────░───────\n",
       "     ├───┤ ░ ┌─┴─┐      ░       \n",
       "q_1: ┤ X ├─░─┤ X ├──■───░───────\n",
       "     └───┘ ░ └───┘┌─┴─┐ ░ ┌─┐   \n",
       "q_2: ──────░──────┤ X ├─░─┤M├───\n",
       "           ░      └───┘ ░ └╥┘┌─┐\n",
       "q_3: ──────░────────────░──╫─┤M├\n",
       "           ░            ░  ║ └╥┘\n",
       "c: 2/══════════════════════╩══╩═\n",
       "                           0  1 "
      ]
     },
     "execution_count": 20,
     "metadata": {},
     "output_type": "execute_result"
    }
   ],
   "source": [
    "qc_ha = QuantumCircuit(4,2)\n",
    "# encode inputs in qubits 0 and 1\n",
    "qc_ha.x(0) # For A=0, remove this line. For A=1, leave it.\n",
    "qc_ha.x(1) # For B=0, remove this line. For B=1, leave it.\n",
    "qc_ha.barrier()\n",
    "# TODO: use cnots to write the XOR of the inputs on qubit 2\n",
    "qc_ha.cx(0, 1)\n",
    "qc_ha.cx(1, 2)\n",
    "\n",
    "qc_ha.barrier()\n",
    "# extract outputs\n",
    "qc_ha.measure(2,0) # extract XOR value\n",
    "qc_ha.measure(3,1)\n",
    "\n",
    "qc_ha.draw()"
   ]
  },
  {
   "cell_type": "code",
   "execution_count": 21,
   "id": "9ff3969f",
   "metadata": {},
   "outputs": [
    {
     "data": {
      "image/png": "[encoded data removed]",
      "text/plain": [
       "<Figure size 700x500 with 1 Axes>"
      ]
     },
     "execution_count": 21,
     "metadata": {},
     "output_type": "execute_result"
    }
   ],
   "source": [
    "#Test your function for the combinations (A,B)=(0,0), (0,1), (1,0)!\n",
    "sim = Aer.get_backend('aer_simulator')\n",
    "result = sim.run(qc_ha).result()#TODO: Run the simulation, and collect the results\n",
    "counts = result.get_counts()#TODO: Get the counts from your results\n",
    "plot_histogram(counts)\n",
    "#Hint: Good coders write good code, great coders copy great code."
   ]
  },
  {
   "cell_type": "markdown",
   "id": "46d1215d",
   "metadata": {},
   "source": [
    "With this information, we can almost build working half adder. Only the 4th scenario remains to be dealt with: If you look again at the four possible sums, you’ll notice that there is only one case for which this is 1 instead of 0: 1+1=10. It happens only when both the bits we are adding are 1. This bit will live on qubit 3.\n",
    "\n",
    "To calculate this part of the output, we want to look at whether both of the inputs are 1. If they are — and only if they are — we need to do a NOT gate on qubit 3. That will flip it to the required value of 1 for this case only, giving us the output we need.\n",
    "\n",
    "For this, we need a new gate: like a CNOT but controlled on two qubits instead of just one. This will perform a NOT on the target qubit only when both controls are in state 1. This new gate is called the Toffoli. For those of you who are familiar with Boolean logic gates, it is basically an AND gate.\n",
    "\n",
    "<img src=\"Toffoli.png\" alt=\"Toffoli\" width=\"200\"/>\n",
    "\n",
    "In Qiskit, the Toffoli is represented with the `.ccx()` command, which acts on 2 bits. Try this implementation, then try measuring and visualizing your results!"
   ]
  },
  {
   "cell_type": "code",
   "execution_count": 22,
   "id": "1670be4c",
   "metadata": {},
   "outputs": [
    {
     "data": {
      "text/html": [
       "<pre style=\"word-wrap: normal;white-space: pre;background: #fff0;line-height: 1.1;font-family: &quot;Courier New&quot;,Courier,monospace\">     ┌───┐ ░                 ░       \n",
       "q_0: ┤ X ├─░───■─────────■───░───────\n",
       "     ├───┤ ░   │         │   ░       \n",
       "q_1: ┤ X ├─░───┼────■────■───░───────\n",
       "     └───┘ ░ ┌─┴─┐┌─┴─┐  │   ░ ┌─┐   \n",
       "q_2: ──────░─┤ X ├┤ X ├──┼───░─┤M├───\n",
       "           ░ └───┘└───┘┌─┴─┐ ░ └╥┘┌─┐\n",
       "q_3: ──────░───────────┤ X ├─░──╫─┤M├\n",
       "           ░           └───┘ ░  ║ └╥┘\n",
       "c: 2/═══════════════════════════╩══╩═\n",
       "                                0  1 </pre>"
      ],
      "text/plain": [
       "     ┌───┐ ░                 ░       \n",
       "q_0: ┤ X ├─░───■─────────■───░───────\n",
       "     ├───┤ ░   │         │   ░       \n",
       "q_1: ┤ X ├─░───┼────■────■───░───────\n",
       "     └───┘ ░ ┌─┴─┐┌─┴─┐  │   ░ ┌─┐   \n",
       "q_2: ──────░─┤ X ├┤ X ├──┼───░─┤M├───\n",
       "           ░ └───┘└───┘┌─┴─┐ ░ └╥┘┌─┐\n",
       "q_3: ──────░───────────┤ X ├─░──╫─┤M├\n",
       "           ░           └───┘ ░  ║ └╥┘\n",
       "c: 2/═══════════════════════════╩══╩═\n",
       "                                0  1 "
      ]
     },
     "execution_count": 22,
     "metadata": {},
     "output_type": "execute_result"
    }
   ],
   "source": [
    "qc_ha = QuantumCircuit(4,2)\n",
    "# encode inputs in qubits 0 and 1\n",
    "qc_ha.x(0) # For A=0, remove the this line. For A=1, leave it.\n",
    "qc_ha.x(1) # For B=0, remove the this line. For B=1, leave it.\n",
    "qc_ha.barrier()\n",
    "# use cnots to write the XOR of the inputs on qubit 2\n",
    "qc_ha.cx(0,2)\n",
    "qc_ha.cx(1,2)\n",
    "### TODO: use ccx to write the AND of the inputs on qubit 3 ###\n",
    "qc_ha.ccx(0, 1, 3)\n",
    "\n",
    "qc_ha.barrier()\n",
    "# extract outputs\n",
    "qc_ha.measure(2,0) # extract XOR value\n",
    "qc_ha.measure(3,1) # extract AND value\n",
    "\n",
    "qc_ha.draw()"
   ]
  },
  {
   "cell_type": "code",
   "execution_count": 23,
   "id": "8857abcd",
   "metadata": {},
   "outputs": [
    {
     "data": {
      "image/png": "[encoded data removed]",
      "text/plain": [
       "<Figure size 700x500 with 1 Axes>"
      ]
     },
     "execution_count": 23,
     "metadata": {},
     "output_type": "execute_result"
    }
   ],
   "source": [
    "#A short hand for measuring and collecting results is with assemble's qobj!\n",
    "qobj = assemble(qc_ha)\n",
    "counts = sim.run(qobj).result().get_counts()\n",
    "plot_histogram(counts)"
   ]
  },
  {
   "cell_type": "markdown",
   "id": "91917e57",
   "metadata": {},
   "source": [
    "There you have it, you've built your first quantum program!\n",
    "\n",
    "The half adder contains everything you need for addition. With the NOT, CNOT, and Toffoli gates, we can create programs that add any set of numbers of any size."
   ]
  },
  {
   "cell_type": "code",
   "execution_count": null,
   "id": "3d3d66dc",
   "metadata": {},
   "outputs": [],
   "source": []
  }
 ],
 "metadata": {
  "kernelspec": {
   "display_name": "Python 3.10.4 ('QUANTUM')",
   "language": "python",
   "name": "python3"
  },
  "language_info": {
   "codemirror_mode": {
    "name": "ipython",
    "version": 3
   },
   "file_extension": ".py",
   "mimetype": "text/x-python",
   "name": "python",
   "nbconvert_exporter": "python",
   "pygments_lexer": "ipython3",
   "version": "3.10.4"
  },
  "vscode": {
   "interpreter": {
    "hash": "958ab9dce20c8ee6e04d8e49aa0180a0707d289f1eeac94b113e84c584c3ea87"
   }
  }
 },
 "nbformat": 4,
 "nbformat_minor": 5
}
