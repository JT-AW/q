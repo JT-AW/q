{
 "cells": [
  {
   "cell_type": "code",
   "execution_count": 1,
   "metadata": {},
   "outputs": [],
   "source": [
    "from qiskit import QuantumCircuit, Aer, assemble\n",
    "import numpy as np\n",
    "from qiskit.visualization import plot_histogram, plot_bloch_multivector"
   ]
  },
  {
   "cell_type": "code",
   "execution_count": 4,
   "metadata": {},
   "outputs": [
    {
     "data": {
      "image/png": "[encoded data removed]",
      "text/plain": [
       "<Figure size 287.294x200.667 with 1 Axes>"
      ]
     },
     "execution_count": 4,
     "metadata": {},
     "output_type": "execute_result"
    }
   ],
   "source": [
    "qc = QuantumCircuit(2)\n",
    "qc.x(1)\n",
    "# Apply H-gate to each qubit:\n",
    "for qubit in range(2):\n",
    "    qc.h(qubit)\n",
    "# See the circuit:\n",
    "qc.draw()"
   ]
  },
  {
   "cell_type": "code",
   "execution_count": 12,
   "metadata": {},
   "outputs": [
    {
     "name": "stderr",
     "output_type": "stream",
     "text": [
      "Simulation failed and returned the following error message:\n",
      "ERROR: Failed to load qobj: Duplicate key \"statevector\" in save instruction.\n"
     ]
    },
    {
     "ename": "QiskitError",
     "evalue": "'You have to select a circuit or schedule when there is more than one available'",
     "output_type": "error",
     "traceback": [
      "\u001b[0;31m---------------------------------------------------------------------------\u001b[0m",
      "\u001b[0;31mQiskitError\u001b[0m                               Traceback (most recent call last)",
      "\u001b[1;32m/Users/johnwang/workspace/Quantum/Qisket Edu/qiskit_2.2.ipynb Cell 3\u001b[0m in \u001b[0;36m<cell line: 5>\u001b[0;34m()\u001b[0m\n\u001b[1;32m      <a href='vscode-notebook-cell:/Users/johnwang/workspace/Quantum/Qisket%20Edu/qiskit_2.2.ipynb#W2sZmlsZQ%3D%3D?line=2'>3</a>\u001b[0m qc\u001b[39m.\u001b[39msave_statevector()\n\u001b[1;32m      <a href='vscode-notebook-cell:/Users/johnwang/workspace/Quantum/Qisket%20Edu/qiskit_2.2.ipynb#W2sZmlsZQ%3D%3D?line=3'>4</a>\u001b[0m qobj \u001b[39m=\u001b[39m assemble(qc)\n\u001b[0;32m----> <a href='vscode-notebook-cell:/Users/johnwang/workspace/Quantum/Qisket%20Edu/qiskit_2.2.ipynb#W2sZmlsZQ%3D%3D?line=4'>5</a>\u001b[0m final_state \u001b[39m=\u001b[39m svsim\u001b[39m.\u001b[39;49mrun(qobj)\u001b[39m.\u001b[39;49mresult()\u001b[39m.\u001b[39;49mget_statevector()\n\u001b[1;32m      <a href='vscode-notebook-cell:/Users/johnwang/workspace/Quantum/Qisket%20Edu/qiskit_2.2.ipynb#W2sZmlsZQ%3D%3D?line=6'>7</a>\u001b[0m \u001b[39m# In Jupyter Notebooks we can display this nicely using Latex.\u001b[39;00m\n\u001b[1;32m      <a href='vscode-notebook-cell:/Users/johnwang/workspace/Quantum/Qisket%20Edu/qiskit_2.2.ipynb#W2sZmlsZQ%3D%3D?line=7'>8</a>\u001b[0m \u001b[39m# If not using Jupyter Notebooks you may need to remove the \u001b[39;00m\n\u001b[1;32m      <a href='vscode-notebook-cell:/Users/johnwang/workspace/Quantum/Qisket%20Edu/qiskit_2.2.ipynb#W2sZmlsZQ%3D%3D?line=8'>9</a>\u001b[0m \u001b[39m# array_to_latex function and use print(final_state) instead.\u001b[39;00m\n\u001b[1;32m     <a href='vscode-notebook-cell:/Users/johnwang/workspace/Quantum/Qisket%20Edu/qiskit_2.2.ipynb#W2sZmlsZQ%3D%3D?line=9'>10</a>\u001b[0m \u001b[39mfrom\u001b[39;00m \u001b[39mqiskit\u001b[39;00m\u001b[39m.\u001b[39;00m\u001b[39mvisualization\u001b[39;00m \u001b[39mimport\u001b[39;00m array_to_latex\n",
      "File \u001b[0;32m~/opt/anaconda3/envs/QUANTUM/lib/python3.10/site-packages/qiskit/result/result.py:314\u001b[0m, in \u001b[0;36mResult.get_statevector\u001b[0;34m(self, experiment, decimals)\u001b[0m\n\u001b[1;32m    298\u001b[0m \u001b[39m\"\"\"Get the final statevector of an experiment.\u001b[39;00m\n\u001b[1;32m    299\u001b[0m \n\u001b[1;32m    300\u001b[0m \u001b[39mArgs:\u001b[39;00m\n\u001b[0;32m   (...)\u001b[0m\n\u001b[1;32m    310\u001b[0m \u001b[39m    QiskitError: if there is no statevector for the experiment.\u001b[39;00m\n\u001b[1;32m    311\u001b[0m \u001b[39m\"\"\"\u001b[39;00m\n\u001b[1;32m    312\u001b[0m \u001b[39mtry\u001b[39;00m:\n\u001b[1;32m    313\u001b[0m     \u001b[39mreturn\u001b[39;00m postprocess\u001b[39m.\u001b[39mformat_statevector(\n\u001b[0;32m--> 314\u001b[0m         \u001b[39mself\u001b[39;49m\u001b[39m.\u001b[39;49mdata(experiment)[\u001b[39m\"\u001b[39m\u001b[39mstatevector\u001b[39m\u001b[39m\"\u001b[39m], decimals\u001b[39m=\u001b[39mdecimals\n\u001b[1;32m    315\u001b[0m     )\n\u001b[1;32m    316\u001b[0m \u001b[39mexcept\u001b[39;00m \u001b[39mKeyError\u001b[39;00m \u001b[39mas\u001b[39;00m ex:\n\u001b[1;32m    317\u001b[0m     \u001b[39mraise\u001b[39;00m QiskitError(\u001b[39mf\u001b[39m\u001b[39m'\u001b[39m\u001b[39mNo statevector for experiment \u001b[39m\u001b[39m\"\u001b[39m\u001b[39m{\u001b[39;00m\u001b[39mrepr\u001b[39m(experiment)\u001b[39m}\u001b[39;00m\u001b[39m\"\u001b[39m\u001b[39m'\u001b[39m) \u001b[39mfrom\u001b[39;00m \u001b[39mex\u001b[39;00m\n",
      "File \u001b[0;32m~/opt/anaconda3/envs/QUANTUM/lib/python3.10/site-packages/qiskit/result/result.py:187\u001b[0m, in \u001b[0;36mResult.data\u001b[0;34m(self, experiment)\u001b[0m\n\u001b[1;32m    139\u001b[0m \u001b[39m\"\"\"Get the raw data for an experiment.\u001b[39;00m\n\u001b[1;32m    140\u001b[0m \n\u001b[1;32m    141\u001b[0m \u001b[39mNote this data will be a single classical and quantum register and in a\u001b[39;00m\n\u001b[0;32m   (...)\u001b[0m\n\u001b[1;32m    184\u001b[0m \u001b[39m    QiskitError: if data for the experiment could not be retrieved.\u001b[39;00m\n\u001b[1;32m    185\u001b[0m \u001b[39m\"\"\"\u001b[39;00m\n\u001b[1;32m    186\u001b[0m \u001b[39mtry\u001b[39;00m:\n\u001b[0;32m--> 187\u001b[0m     \u001b[39mreturn\u001b[39;00m \u001b[39mself\u001b[39;49m\u001b[39m.\u001b[39;49m_get_experiment(experiment)\u001b[39m.\u001b[39mdata\u001b[39m.\u001b[39mto_dict()\n\u001b[1;32m    188\u001b[0m \u001b[39mexcept\u001b[39;00m (\u001b[39mKeyError\u001b[39;00m, \u001b[39mTypeError\u001b[39;00m) \u001b[39mas\u001b[39;00m ex:\n\u001b[1;32m    189\u001b[0m     \u001b[39mraise\u001b[39;00m QiskitError(\u001b[39mf\u001b[39m\u001b[39m'\u001b[39m\u001b[39mNo data for experiment \u001b[39m\u001b[39m\"\u001b[39m\u001b[39m{\u001b[39;00m\u001b[39mrepr\u001b[39m(experiment)\u001b[39m}\u001b[39;00m\u001b[39m\"\u001b[39m\u001b[39m'\u001b[39m) \u001b[39mfrom\u001b[39;00m \u001b[39mex\u001b[39;00m\n",
      "File \u001b[0;32m~/opt/anaconda3/envs/QUANTUM/lib/python3.10/site-packages/qiskit/result/result.py:357\u001b[0m, in \u001b[0;36mResult._get_experiment\u001b[0;34m(self, key)\u001b[0m\n\u001b[1;32m    355\u001b[0m \u001b[39mif\u001b[39;00m key \u001b[39mis\u001b[39;00m \u001b[39mNone\u001b[39;00m:\n\u001b[1;32m    356\u001b[0m     \u001b[39mif\u001b[39;00m \u001b[39mlen\u001b[39m(\u001b[39mself\u001b[39m\u001b[39m.\u001b[39mresults) \u001b[39m!=\u001b[39m \u001b[39m1\u001b[39m:\n\u001b[0;32m--> 357\u001b[0m         \u001b[39mraise\u001b[39;00m QiskitError(\n\u001b[1;32m    358\u001b[0m             \u001b[39m\"\u001b[39m\u001b[39mYou have to select a circuit or schedule when there is more than one available\u001b[39m\u001b[39m\"\u001b[39m\n\u001b[1;32m    359\u001b[0m         )\n\u001b[1;32m    360\u001b[0m     key \u001b[39m=\u001b[39m \u001b[39m0\u001b[39m\n\u001b[1;32m    362\u001b[0m \u001b[39m# Key is a QuantumCircuit/Schedule or str: retrieve result by name.\u001b[39;00m\n",
      "\u001b[0;31mQiskitError\u001b[0m: 'You have to select a circuit or schedule when there is more than one available'"
     ]
    }
   ],
   "source": [
    "# Let's see the result\n",
    "svsim = Aer.get_backend('aer_simulator')\n",
    "qc.save_statevector()\n",
    "qobj = assemble(qc)\n",
    "final_state = svsim.run(qobj).result().get_statevector()\n",
    "\n",
    "# In Jupyter Notebooks we can display this nicely using Latex.\n",
    "# If not using Jupyter Notebooks you may need to remove the \n",
    "# array_to_latex function and use print(final_state) instead.\n",
    "from qiskit.visualization import array_to_latex\n",
    "array_to_latex(final_state, prefix=\"\\\\text{statevector} = \")\n",
    "\n",
    "from qiskit.visualization import array_to_latex\n",
    "array_to_latex(unitary, prefix=\"\\\\text{Circuit = }\\n\")"
   ]
  },
  {
   "cell_type": "code",
   "execution_count": 13,
   "metadata": {},
   "outputs": [
    {
     "data": {
      "image/png": "[encoded data removed]",
      "text/plain": [
       "<Figure size 203.683x200.667 with 1 Axes>"
      ]
     },
     "execution_count": 13,
     "metadata": {},
     "output_type": "execute_result"
    }
   ],
   "source": [
    "qc = QuantumCircuit(2)\n",
    "# Apply CNOT\n",
    "qc.cx(0,1)\n",
    "# See the circuit:\n",
    "qc.draw()"
   ]
  },
  {
   "cell_type": "code",
   "execution_count": null,
   "metadata": {},
   "outputs": [],
   "source": []
  }
 ],
 "metadata": {
  "kernelspec": {
   "display_name": "Python 3.10.4 ('QUANTUM')",
   "language": "python",
   "name": "python3"
  },
  "language_info": {
   "codemirror_mode": {
    "name": "ipython",
    "version": 3
   },
   "file_extension": ".py",
   "mimetype": "text/x-python",
   "name": "python",
   "nbconvert_exporter": "python",
   "pygments_lexer": "ipython3",
   "version": "3.10.4"
  },
  "orig_nbformat": 4,
  "vscode": {
   "interpreter": {
    "hash": "958ab9dce20c8ee6e04d8e49aa0180a0707d289f1eeac94b113e84c584c3ea87"
   }
  }
 },
 "nbformat": 4,
 "nbformat_minor": 2
}
