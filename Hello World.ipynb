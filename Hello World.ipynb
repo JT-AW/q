{
 "cells": [
  {
   "cell_type": "code",
   "execution_count": 1,
   "id": "a76849b3",
   "metadata": {},
   "outputs": [],
   "source": [
    "import qiskit"
   ]
  },
  {
   "cell_type": "code",
   "execution_count": null,
   "id": "19515297",
   "metadata": {},
   "outputs": [],
   "source": []
  }
 ],
 "metadata": {
  "kernelspec": {
   "display_name": "Python 3.10.4 ('QUANTUM')",
   "language": "python",
   "name": "python3"
  },
  "language_info": {
   "codemirror_mode": {
    "name": "ipython",
    "version": 3
   },
   "file_extension": ".py",
   "mimetype": "text/x-python",
   "name": "python",
   "nbconvert_exporter": "python",
   "pygments_lexer": "ipython3",
   "version": "3.10.4"
  },
  "vscode": {
   "interpreter": {
    "hash": "958ab9dce20c8ee6e04d8e49aa0180a0707d289f1eeac94b113e84c584c3ea87"
   }
  }
 },
 "nbformat": 4,
 "nbformat_minor": 5
}
